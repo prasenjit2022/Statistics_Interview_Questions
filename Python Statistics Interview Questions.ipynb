{
 "cells": [
  {
   "cell_type": "code",
   "execution_count": 65,
   "id": "ba0666b2",
   "metadata": {},
   "outputs": [],
   "source": [
    "# import all required libraries\n",
    "import numpy as np\n",
    "import pandas as pd\n",
    "import statistics\n",
    "import matplotlib.pyplot as plt\n",
    "import seaborn as sns\n",
    "from sklearn.linear_model import LinearRegression\n",
    "from sklearn.model_selection import train_test_split\n",
    "import scipy.stats as stats"
   ]
  },
  {
   "cell_type": "markdown",
   "id": "b4858e8f",
   "metadata": {},
   "source": [
    "Scenario 1: A company wants to analyze the sales performance of its products in different regions. They collected following data\n",
    "Region A:[10,15,12,8,14]\n",
    "Region B:[18,20,16,22,25]\n",
    "Calculate mean sales for each region."
   ]
  },
  {
   "cell_type": "code",
   "execution_count": 12,
   "id": "afa8d829",
   "metadata": {},
   "outputs": [
    {
     "name": "stdout",
     "output_type": "stream",
     "text": [
      "Mean for Region A is: 11.8\n",
      "Mean for Region B is: 20.2\n",
      "Mean sales for Region A: 11.8\n",
      "Mean sales for Region B: 20.2\n"
     ]
    }
   ],
   "source": [
    "RegionA=[10,15,12,8,14]\n",
    "RegionB=[18,20,16,22,25]\n",
    "sum_A=0\n",
    "sum_B=0\n",
    "for i in RegionA:\n",
    "    sum_A=sum_A+i\n",
    "mean_A=sum_A/len(RegionA)\n",
    "print(\"Mean for Region A is:\",mean_A)\n",
    "for j in RegionB:\n",
    "    sum_B=sum_B+j\n",
    "mean_B=sum_B/len(RegionB)\n",
    "print(\"Mean for Region B is:\",mean_B)\n",
    "## Using Numpy\n",
    "mean_sales_A=np.mean(RegionA)\n",
    "mean_sales_B=np.mean(RegionB)\n",
    "print(\"Mean sales for Region A:\",mean_sales_A)\n",
    "print(\"Mean sales for Region B:\",mean_sales_B)"
   ]
  },
  {
   "cell_type": "markdown",
   "id": "51e7cdcc",
   "metadata": {},
   "source": [
    "Scenario 2:A survey is conducted to measure customer satisfaction on a scale of 1 to 5. The data collected is as follows:\n",
    "[4,5,2,3,5,4,3,2,4,5]\n",
    "Calculate the mode of the survey responses"
   ]
  },
  {
   "cell_type": "code",
   "execution_count": 32,
   "id": "23067103",
   "metadata": {},
   "outputs": [],
   "source": [
    "customer_satisfaction_data=[4,5,2,3,5,4,3,2,4,5]\n",
    "def mode(customer_satisfaction_data):\n",
    "    # dictionary to keep count of each value\n",
    "    counts = {}\n",
    "    # iterate through the list\n",
    "    for item in customer_satisfaction_data:\n",
    "        if item in counts:\n",
    "            counts[item] += 1\n",
    "        else:\n",
    "            counts[item] = 1\n",
    "    # get the keys with the max counts\n",
    "    return [key for key in counts.keys() if counts[key] == max(counts.values())]\n"
   ]
  },
  {
   "cell_type": "code",
   "execution_count": 33,
   "id": "9d525589",
   "metadata": {},
   "outputs": [
    {
     "data": {
      "text/plain": [
       "[4, 5]"
      ]
     },
     "execution_count": 33,
     "metadata": {},
     "output_type": "execute_result"
    }
   ],
   "source": [
    "mode(customer_satisfaction_data)"
   ]
  },
  {
   "cell_type": "code",
   "execution_count": 34,
   "id": "7a817d5c",
   "metadata": {},
   "outputs": [
    {
     "name": "stdout",
     "output_type": "stream",
     "text": [
      "4\n"
     ]
    }
   ],
   "source": [
    "mode_customer_statisfaction=statistics.mode(customer_satisfaction_data)\n",
    "print(mode_customer_statisfaction)"
   ]
  },
  {
   "cell_type": "markdown",
   "id": "b002d4d5",
   "metadata": {},
   "source": [
    "Mode using custom function gave the output as [4,5] where as when we used statistic.mode function it gave output as 4 which is incorrect."
   ]
  },
  {
   "cell_type": "markdown",
   "id": "9d31429b",
   "metadata": {},
   "source": [
    "Scenario 3: A company wants to analyze the effect of price on sales. The data collected is as follows:\n",
    "Price(in dollars):[10,15,12,8,14]\n",
    "Sales:[100,80,90,110,95]\n",
    "Perform a simple linear regression to predict Sales based on the price."
   ]
  },
  {
   "cell_type": "code",
   "execution_count": 37,
   "id": "347e4359",
   "metadata": {},
   "outputs": [],
   "source": [
    "Price=[10,15,12,8,14]\n",
    "Sales=[100,80,90,110,95]"
   ]
  },
  {
   "cell_type": "code",
   "execution_count": 42,
   "id": "2ce9c69c",
   "metadata": {},
   "outputs": [],
   "source": [
    "df=pd.DataFrame(list(zip(Price,Sales)),columns=['Price','Sales'])"
   ]
  },
  {
   "cell_type": "code",
   "execution_count": 44,
   "id": "3ebeddf7",
   "metadata": {},
   "outputs": [
    {
     "data": {
      "text/html": [
       "<div>\n",
       "<style scoped>\n",
       "    .dataframe tbody tr th:only-of-type {\n",
       "        vertical-align: middle;\n",
       "    }\n",
       "\n",
       "    .dataframe tbody tr th {\n",
       "        vertical-align: top;\n",
       "    }\n",
       "\n",
       "    .dataframe thead th {\n",
       "        text-align: right;\n",
       "    }\n",
       "</style>\n",
       "<table border=\"1\" class=\"dataframe\">\n",
       "  <thead>\n",
       "    <tr style=\"text-align: right;\">\n",
       "      <th></th>\n",
       "      <th>Price</th>\n",
       "      <th>Sales</th>\n",
       "    </tr>\n",
       "  </thead>\n",
       "  <tbody>\n",
       "    <tr>\n",
       "      <th>0</th>\n",
       "      <td>10</td>\n",
       "      <td>100</td>\n",
       "    </tr>\n",
       "    <tr>\n",
       "      <th>1</th>\n",
       "      <td>15</td>\n",
       "      <td>80</td>\n",
       "    </tr>\n",
       "    <tr>\n",
       "      <th>2</th>\n",
       "      <td>12</td>\n",
       "      <td>90</td>\n",
       "    </tr>\n",
       "    <tr>\n",
       "      <th>3</th>\n",
       "      <td>8</td>\n",
       "      <td>110</td>\n",
       "    </tr>\n",
       "    <tr>\n",
       "      <th>4</th>\n",
       "      <td>14</td>\n",
       "      <td>95</td>\n",
       "    </tr>\n",
       "  </tbody>\n",
       "</table>\n",
       "</div>"
      ],
      "text/plain": [
       "   Price  Sales\n",
       "0     10    100\n",
       "1     15     80\n",
       "2     12     90\n",
       "3      8    110\n",
       "4     14     95"
      ]
     },
     "execution_count": 44,
     "metadata": {},
     "output_type": "execute_result"
    }
   ],
   "source": [
    "df.head()"
   ]
  },
  {
   "cell_type": "code",
   "execution_count": 45,
   "id": "d6e7b531",
   "metadata": {},
   "outputs": [
    {
     "data": {
      "image/png": "[encoded data removed]",
      "text/plain": [
       "<Figure size 360x360 with 1 Axes>"
      ]
     },
     "metadata": {
      "needs_background": "light"
     },
     "output_type": "display_data"
    }
   ],
   "source": [
    "# Plotting the scatter plot to check the relationship between Price and Sales\n",
    "sns.lmplot(x='Price',y='Sales',data=df,order=2,ci=None)\n",
    "plt.show()"
   ]
  },
  {
   "cell_type": "code",
   "execution_count": 58,
   "id": "8d9c28e7",
   "metadata": {},
   "outputs": [
    {
     "name": "stdout",
     "output_type": "stream",
     "text": [
      "-10.08108108108111\n"
     ]
    }
   ],
   "source": [
    "X=np.array(df['Price']).reshape(-1,1)\n",
    "y=np.array(df['Sales']).reshape(-1,1)\n",
    "X_train, X_test, y_train, y_test = train_test_split(X, y, test_size = 0.25)\n",
    "reg=LinearRegression()\n",
    "reg.fit(X_train,y_train)\n",
    "print(reg.score(X_test,y_test))\n"
   ]
  },
  {
   "cell_type": "code",
   "execution_count": 60,
   "id": "53cd5368",
   "metadata": {},
   "outputs": [
    {
     "name": "stdout",
     "output_type": "stream",
     "text": [
      "[[ 83.24324324]\n",
      " [100.54054054]]\n"
     ]
    }
   ],
   "source": [
    "y_pred=reg.predict(X_test)\n",
    "print(y_pred)"
   ]
  },
  {
   "cell_type": "code",
   "execution_count": 61,
   "id": "7c07ca62",
   "metadata": {},
   "outputs": [],
   "source": [
    "y_pred=reg.predict([[20]])"
   ]
  },
  {
   "cell_type": "code",
   "execution_count": 62,
   "id": "ed1a6d86",
   "metadata": {},
   "outputs": [
    {
     "data": {
      "text/plain": [
       "array([[57.2972973]])"
      ]
     },
     "execution_count": 62,
     "metadata": {},
     "output_type": "execute_result"
    }
   ],
   "source": [
    "y_pred"
   ]
  },
  {
   "cell_type": "code",
   "execution_count": 63,
   "id": "496704ab",
   "metadata": {},
   "outputs": [],
   "source": [
    "y_pred=reg.predict([[5]])"
   ]
  },
  {
   "cell_type": "code",
   "execution_count": 64,
   "id": "eaf0e039",
   "metadata": {},
   "outputs": [
    {
     "data": {
      "text/plain": [
       "array([[122.16216216]])"
      ]
     },
     "execution_count": 64,
     "metadata": {},
     "output_type": "execute_result"
    }
   ],
   "source": [
    "y_pred"
   ]
  },
  {
   "cell_type": "markdown",
   "id": "95256c52",
   "metadata": {},
   "source": [
    "Conclusion : From the data and graph plotted we can understand clearly that if price of product increases then sales will reduce and vice-versa."
   ]
  },
  {
   "cell_type": "markdown",
   "id": "abe81ca0",
   "metadata": {},
   "source": [
    "Scenario 4: study in conducted to compare the performance of two different teaching methods.The test score of the students in each group are as follows:\n",
    "Group A:[85,90,92,88,91]\n",
    "Group B:[82,88,90,86,87]\n",
    "Perform t-test to determine if there is a significant difference in the mean scores between the two groups."
   ]
  },
  {
   "cell_type": "code",
   "execution_count": 68,
   "id": "d623e83b",
   "metadata": {},
   "outputs": [
    {
     "name": "stdout",
     "output_type": "stream",
     "text": [
      "6.160000000000001 7.039999999999999\n"
     ]
    }
   ],
   "source": [
    "Group_A=np.array([85,90,92,88,91])\n",
    "Group_B=np.array([82,88,90,86,87])\n",
    "print(np.var(Group_A),np.var(Group_B))"
   ]
  },
  {
   "cell_type": "code",
   "execution_count": 69,
   "id": "e08f3ac2",
   "metadata": {},
   "outputs": [
    {
     "data": {
      "text/plain": [
       "Ttest_indResult(statistic=1.4312528946642733, pvalue=0.19023970239078333)"
      ]
     },
     "execution_count": 69,
     "metadata": {},
     "output_type": "execute_result"
    }
   ],
   "source": [
    "stats.ttest_ind(a=Group_A,b=Group_B,equal_var=True)"
   ]
  },
  {
   "cell_type": "markdown",
   "id": "ca5346a8",
   "metadata": {},
   "source": [
    "Sceanrio: A survey is conducted to measure the heights of a group of people. The data is collected as follows:\n",
    "[160,170,165,155,175,180,170]\n",
    "Calculate the standard deviation of the heights"
   ]
  },
  {
   "cell_type": "code",
   "execution_count": 71,
   "id": "554f8316",
   "metadata": {},
   "outputs": [
    {
     "data": {
      "text/plain": [
       "8.591246929842246"
      ]
     },
     "execution_count": 71,
     "metadata": {},
     "output_type": "execute_result"
    }
   ],
   "source": [
    "height=[160,170,165,155,175,180,170]\n",
    "statistics.stdev(height)"
   ]
  },
  {
   "cell_type": "markdown",
   "id": "9845b3d5",
   "metadata": {},
   "source": [
    "Scenario: A data analyst wants to determine the variability in the daily stock prices of a company. The data collected is as follows:\n",
    "[25.5, 24.8, 26.1, 25.3, 24.9]\n",
    "Calculate the range of the stock prices.\n"
   ]
  },
  {
   "cell_type": "code",
   "execution_count": 79,
   "id": "22dc39b9",
   "metadata": {},
   "outputs": [
    {
     "name": "stdout",
     "output_type": "stream",
     "text": [
      "1.3\n"
     ]
    }
   ],
   "source": [
    "price_stock=[25.5, 24.8, 26.1, 25.3, 24.9]\n",
    "sorted_price=sorted(price_stock)\n",
    "range=format((max(sorted_price)-min(sorted_price)),\".1f\")\n",
    "print(range)"
   ]
  },
  {
   "cell_type": "markdown",
   "id": "c8322429",
   "metadata": {},
   "source": [
    "Scenario: A study is conducted to compare the effectiveness of two different medications. The recovery times of the patients in each group are as follows:\n",
    "   Medication A: [10, 12, 14, 11, 13]\n",
    "   Medication B: [15, 17, 16, 14, 18]\n",
    "   Perform an analysis of variance (ANOVA) to determine if there is a significant difference in the mean recovery times between the two medications.\n"
   ]
  },
  {
   "cell_type": "code",
   "execution_count": 82,
   "id": "98d71e6e",
   "metadata": {},
   "outputs": [
    {
     "name": "stdout",
     "output_type": "stream",
     "text": [
      "One-way ANOVA results:\n",
      "F-statistic: 16.0\n",
      "p-value: 0.003949772803445326\n",
      "There is a significant difference in the mean recovery times between the two medications.\n"
     ]
    }
   ],
   "source": [
    "Medication_A= [10, 12, 14, 11, 13]\n",
    "Medication_B= [15, 17, 16, 14, 18]\n",
    "# Perform one-way ANOVA\n",
    "f_statistic, p_value = stats.f_oneway(Medication_A, Medication_B)\n",
    "# Output the results\n",
    "print(\"One-way ANOVA results:\")\n",
    "print(\"F-statistic:\", f_statistic)\n",
    "print(\"p-value:\", p_value)\n",
    "# Interpret the results\n",
    "if p_value < 0.05:\n",
    "    print(\"There is a significant difference in the mean recovery times between the two medications.\")\n",
    "else:\n",
    "    print(\"There is no significant difference in the mean recovery times between the two medications.\")"
   ]
  },
  {
   "cell_type": "markdown",
   "id": "56e1afd1",
   "metadata": {},
   "source": [
    "Scenario: A quality control department wants to test the weight consistency of a product. The weights of a sample of products are as follows:\n",
    "[10.2, 9.8, 10.0, 10.5, 10.3, 10.1]\n",
    "Perform a hypothesis test to determine if the mean weight differs significantly from 10 grams.\n"
   ]
  },
  {
   "cell_type": "code",
   "execution_count": 83,
   "id": "65db08e3",
   "metadata": {},
   "outputs": [
    {
     "name": "stdout",
     "output_type": "stream",
     "text": [
      "The mean weight does not differ significantly from 10 grams (fail to reject H0)\n",
      "t-statistic: 1.5126584522688367\n",
      "p-value: 0.19077595151110102\n"
     ]
    }
   ],
   "source": [
    "sample_weights=[10.2, 9.8, 10.0, 10.5, 10.3, 10.1]\n",
    "hypothesized_mean=10\n",
    "# Perform one-sample t-test\n",
    "t_stat, p_value = stats.ttest_1samp(sample_weights, hypothesized_mean)\n",
    "# Define the significance level (alpha)\n",
    "alpha = 0.05\n",
    "\n",
    "# Check if the p-value is less than the significance level\n",
    "if p_value < alpha:\n",
    "    print(\"The mean weight differs significantly from 10 grams (reject H0)\")\n",
    "else:\n",
    "    print(\"The mean weight does not differ significantly from 10 grams (fail to reject H0)\")\n",
    "\n",
    "# Output the t-statistic and the p-value\n",
    "print(\"t-statistic:\", t_stat)\n",
    "print(\"p-value:\", p_value)\n"
   ]
  },
  {
   "cell_type": "markdown",
   "id": "37e21653",
   "metadata": {},
   "source": [
    "In this code, we use the ttest_1samp function from scipy.stats to perform the one-sample t-test. The t_stat variable holds the t-statistic, and the p_value variable holds the two-tailed p-value for the test. We compare the p-value with the significance level (alpha) to draw our conclusion.\n",
    "\n",
    "If the p-value is less than alpha (0.05 in this case, which is a common significance level choice), we reject the null hypothesis and conclude that the mean weight differs significantly from 10 grams. Otherwise, we fail to reject the null hypothesis, indicating that there is not enough evidence to suggest a significant difference in the mean weight from 10 grams.\n"
   ]
  }
 ],
 "metadata": {
  "kernelspec": {
   "display_name": "Python 3",
   "language": "python",
   "name": "python3"
  },
  "language_info": {
   "codemirror_mode": {
    "name": "ipython",
    "version": 3
   },
   "file_extension": ".py",
   "mimetype": "text/x-python",
   "name": "python",
   "nbconvert_exporter": "python",
   "pygments_lexer": "ipython3",
   "version": "3.8.8"
  }
 },
 "nbformat": 4,
 "nbformat_minor": 5
}
